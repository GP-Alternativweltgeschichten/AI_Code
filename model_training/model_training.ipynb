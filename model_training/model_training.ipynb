{
 "cells": [
  {
   "metadata": {},
   "cell_type": "markdown",
   "source": "## Requirements",
   "id": "45bdd0f9b884a23f"
  },
  {
   "cell_type": "code",
   "id": "87d39cc1d86af7f2",
   "metadata": {},
   "source": [
    "!pip install git+https://github.com/huggingface/diffusers.git\n",
    "!pip install accelerate\n",
    "!pip install datasets\n",
    "!pip install bitsandbytes"
   ],
   "outputs": [],
   "execution_count": null
  },
  {
   "metadata": {
    "collapsed": true
   },
   "cell_type": "code",
   "source": "!git clone https://huggingface.co/datasets/GP-Alternativweltgeschichten/Satbilder",
   "id": "initial_id",
   "outputs": [],
   "execution_count": null
  },
  {
   "metadata": {},
   "cell_type": "code",
   "source": [
    "import torch\n",
    "from diffusers import StableDiffusionInpaintPipeline\n",
    "from PIL import Image\n",
    "import matplotlib.pyplot as plt"
   ],
   "id": "f5a71ce5ff396e19",
   "outputs": [],
   "execution_count": null
  },
  {
   "metadata": {},
   "cell_type": "markdown",
   "source": "## Training the model",
   "id": "26e01755206b51e3"
  },
  {
   "metadata": {},
   "cell_type": "markdown",
   "source": [
    "#### In terminal (Pycharm tends to crash after a while when using Jupyter Notebook):\n",
    "accelerate launch diffusers/examples/text_to_image/train_text_to_image.py --pretrained_model_name_or_path=stabilityai/stable-diffusion-2-1 --dataset_name=SatBilder --use_ema --use_8bit_adam --resolution=768 --center_crop --random_flip --train_batch_size=1 --gradient_accumulation_steps=4 --gradient_checkpointing --mixed_precision=\"fp16\" --max_train_steps=10000 --learning_rate=1e-05 --max_grad_norm=1 --lr_scheduler=\"constant\" --lr_warmup_steps=0 --output_dir=\"Olpe_Model\" --checkpointing_steps=5000"
   ],
   "id": "d7ccc0c45f6df558"
  },
  {
   "metadata": {},
   "cell_type": "markdown",
   "source": "#### In Jupyter:",
   "id": "63fd580deb0b2880"
  },
  {
   "metadata": {},
   "cell_type": "code",
   "source": [
    "!accelerate launch diffusers/examples/text_to_image/train_text_to_image.py \\\n",
    "  --pretrained_model_name_or_path=stabilityai/stable-diffusion-2-1 \\\n",
    "  --dataset_name=SatBilder \\\n",
    "  --use_ema \\\n",
    "  --use_8bit_adam \\\n",
    "  --resolution=768 --center_crop --random_flip \\\n",
    "  --train_batch_size=8 \\\n",
    "  --gradient_accumulation_steps=2 \\\n",
    "  --gradient_checkpointing \\\n",
    "  --mixed_precision=\"fp16\" \\\n",
    "  --max_train_steps=10000 \\\n",
    "  --learning_rate=1e-05 \\\n",
    "  --max_grad_norm=1 \\\n",
    "  --lr_scheduler=\"constant\" --lr_warmup_steps=0 \\\n",
    "  --output_dir=\"Olpe_Model\""
   ],
   "id": "46a1daf6d38edceb",
   "outputs": [],
   "execution_count": null
  },
  {
   "metadata": {},
   "cell_type": "markdown",
   "source": "## Testing the model",
   "id": "c975f5371b6245de"
  },
  {
   "metadata": {},
   "cell_type": "code",
   "source": [
    "pipe = StableDiffusionInpaintPipeline.from_pretrained('./Olpe_Model', torch_dtype=torch.float16)\n",
    "pipe = pipe.to(\"cuda\")"
   ],
   "id": "c2b9a5e9052a96dd",
   "outputs": [],
   "execution_count": null
  },
  {
   "metadata": {},
   "cell_type": "code",
   "source": [
    "initial_image = Image.open(\"./Test_Images/input.png\")\n",
    "mask_image = Image.open(\"./Test_Images/mask.png\")\n",
    "\n",
    "plt.subplot(1, 2, 1)\n",
    "plt.imshow(initial_image)\n",
    "plt.axis('off')\n",
    "plt.title(\"Initial Image\")\n",
    "\n",
    "plt.subplot(1, 2, 2)\n",
    "plt.imshow(mask_image)\n",
    "plt.axis('off')\n",
    "plt.title(\"Mask Image\")"
   ],
   "id": "bd579b38fb9db0e7",
   "outputs": [],
   "execution_count": null
  },
  {
   "metadata": {},
   "cell_type": "code",
   "source": [
    "prompt = \"Aerial view of the city Olpe: A blue river.\"\n",
    "img = pipe(prompt, image=initial_image, mask_image=mask_image, strength=0.9, num_inference_steps=200).images[0]\n",
    "img"
   ],
   "id": "1ac84e5d96b58a18",
   "outputs": [],
   "execution_count": null
  },
  {
   "metadata": {},
   "cell_type": "code",
   "source": [
    "prompt = \"Aerial view of the city Olpe: A church.\"\n",
    "img = pipe(prompt, image=initial_image, mask_image=mask_image, strength=0.9, num_inference_steps=200).images[0]\n",
    "img"
   ],
   "id": "8ddbaa326472bfb9",
   "outputs": [],
   "execution_count": null
  }
 ],
 "metadata": {
  "kernelspec": {
   "display_name": "Python 3",
   "language": "python",
   "name": "python3"
  },
  "language_info": {
   "codemirror_mode": {
    "name": "ipython",
    "version": 2
   },
   "file_extension": ".py",
   "mimetype": "text/x-python",
   "name": "python",
   "nbconvert_exporter": "python",
   "pygments_lexer": "ipython2",
   "version": "2.7.6"
  }
 },
 "nbformat": 4,
 "nbformat_minor": 5
}
